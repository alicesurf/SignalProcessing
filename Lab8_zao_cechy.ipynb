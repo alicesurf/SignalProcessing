{
 "cells": [
  {
   "cell_type": "code",
   "execution_count": null,
   "metadata": {},
   "outputs": [],
   "source": [
    "%pylab inline\n",
    "from skimage import data,color,filters,morphology,feature,draw,transform,util"
   ]
  },
  {
   "cell_type": "markdown",
   "metadata": {},
   "source": [
    "## Filtrowanie szumu\n",
    "\n",
    "Zrób zdjęcie zawierające szum typu salt/pepper i zastosuj na nim filtry uśredniający, gaussowski i medianowy z modułu *skimage.filters*."
   ]
  },
  {
   "cell_type": "code",
   "execution_count": null,
   "metadata": {
    "collapsed": true
   },
   "outputs": [],
   "source": []
  },
  {
   "cell_type": "markdown",
   "metadata": {},
   "source": [
    "## Dylacja, erozja, zamknięcie i otwarcie\n",
    "\n",
    "Dokonaj operacji dylacji, erozji, otwarcia i zamknięcia na tym samym zdjęciu co powyżej, w filtrze medianowym. Jakie operacje się nadają do jakiego rodzaju szumu?"
   ]
  },
  {
   "cell_type": "code",
   "execution_count": null,
   "metadata": {
    "collapsed": true
   },
   "outputs": [],
   "source": []
  },
  {
   "cell_type": "markdown",
   "metadata": {},
   "source": [
    "## Detekcja elementów morfologicznych - transformata Hough'a\n",
    "\n",
    "Po dokonaniu binaryzacji zdjęć, możemy zaczać szukać pozytecznych informacji w rastrze. Istnieje na to wiele metod, ale tutaj omówimy pewną ciekawą metodę znaną jako transformatę Hough'a.\n",
    "\n",
    "Użyj transforamty Hough'a żeby odnaleźć linie występujące w krawędziach zdjęcia *data.camera* (użyj transformaty Canny'ego do otrzymania krawędzi). Do tranformacji zdjęcia do przestrzeni Hough'a użyj metody *skimage.transform.hough_line*. Do wyboru największych przecięć można użyć *skimage.transform.hough_line_peaks*. Wygodniej jednak będzie zastosować *skimage.transform.probabilistic_hough_line* do policzenia współrzędnych linii na obrazie. Użyj parametrów *threshold=10*, *line_length=5* oraz *line_gap=3*. Pokesperymentuyj z nimi żeby znaleźć inne rozwiązania."
   ]
  },
  {
   "cell_type": "code",
   "execution_count": null,
   "metadata": {
    "collapsed": true
   },
   "outputs": [],
   "source": []
  }
 ],
 "metadata": {
  "kernelspec": {
   "display_name": "Python 3",
   "language": "python",
   "name": "python3"
  },
  "language_info": {
   "codemirror_mode": {
    "name": "ipython",
    "version": 3
   },
   "file_extension": ".py",
   "mimetype": "text/x-python",
   "name": "python",
   "nbconvert_exporter": "python",
   "pygments_lexer": "ipython3",
   "version": "3.4.2"
  }
 },
 "nbformat": 4,
 "nbformat_minor": 1
}
